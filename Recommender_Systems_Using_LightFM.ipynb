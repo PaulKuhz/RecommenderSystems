{
  "nbformat": 4,
  "nbformat_minor": 0,
  "metadata": {
    "colab": {
      "provenance": []
    },
    "kernelspec": {
      "name": "python3",
      "display_name": "Python 3"
    },
    "language_info": {
      "name": "python"
    }
  },
  "cells": [
    {
      "cell_type": "code",
      "source": [
        "from lightfm import LightFM\n",
        "from lightfm.data import Dataset\n",
        "from azureml.core import Workspace, Dataset as AzureDataset\n",
        "import pandas as pd"
      ],
      "metadata": {
        "id": "tqbGLKPkLqEj"
      },
      "execution_count": null,
      "outputs": []
    },
    {
      "cell_type": "code",
      "source": [
        "# Define Azure ML workspace parameters\n",
        "subscription_id = 'x'\n",
        "resource_group = 'y'\n",
        "workspace_name = 'z'\n",
        "\n",
        "# Connect to Azure ML workspace\n",
        "workspace = Workspace(subscription_id, resource_group, workspace_name)"
      ],
      "metadata": {
        "id": "yzafRJ3PLrQJ"
      },
      "execution_count": null,
      "outputs": []
    },
    {
      "cell_type": "code",
      "source": [
        "# Load datasets\n",
        "usersdf = AzureDataset.get_by_name(workspace, name='usersfake').to_pandas_dataframe()\n",
        "trainingsdf = AzureDataset.get_by_name(workspace, name='trainings').to_pandas_dataframe()\n",
        "trainingstakendf = AzureDataset.get_by_name(workspace, name='trainingtakenfake').to_pandas_dataframe()"
      ],
      "metadata": {
        "id": "6IVjOD-yLuQr"
      },
      "execution_count": null,
      "outputs": []
    },
    {
      "cell_type": "code",
      "source": [
        "# Ensure User-Id and Training-Id are numeric\n",
        "trainingstakendf[\"User-Id\"] = pd.to_numeric(trainingstakendf[\"User-Id\"])\n",
        "trainingstakendf[\"Training-Id\"] = pd.to_numeric(trainingstakendf[\"Training-Id\"])"
      ],
      "metadata": {
        "id": "ha7BXnDwLvq9"
      },
      "execution_count": null,
      "outputs": []
    },
    {
      "cell_type": "code",
      "source": [
        "# Initialize the LightFM Dataset\n",
        "dataset1 = Dataset()"
      ],
      "metadata": {
        "id": "mNh6qJ3wL0Jh"
      },
      "execution_count": null,
      "outputs": []
    },
    {
      "cell_type": "code",
      "source": [
        "# Create user features\n",
        "def feature_colon_value(my_list):\n",
        "    \"\"\"\n",
        "    Takes a list of values and prepends column names to respective values.\n",
        "    For example: if my_list = [1, 1, 0, 'del'],\n",
        "    the resultant output = ['ou:1', 'skills:1', 'language:0', 'grade:del', 'career interests:del']\n",
        "    \"\"\"\n",
        "    result = []\n",
        "    column_prefixes = ['ou:', 'skills:', 'language:', 'grade:', 'career interests:']\n",
        "\n",
        "    for prefix, value in zip(column_prefixes, my_list):\n",
        "        result.append(f\"{prefix}{value}\")\n",
        "\n",
        "    return result"
      ],
      "metadata": {
        "id": "8o1XUZxHL1on"
      },
      "execution_count": null,
      "outputs": []
    },
    {
      "cell_type": "code",
      "source": [
        "# Generate the feature list\n",
        "ad_subset = usersdf[[\"ou\", 'skills', 'language', 'grade', 'career interests']]\n",
        "ad_list = [list(x) for x in ad_subset.values]\n",
        "feature_list = [feature_colon_value(item) for item in ad_list]"
      ],
      "metadata": {
        "id": "-zLi0KIVL4AA"
      },
      "execution_count": null,
      "outputs": []
    },
    {
      "cell_type": "code",
      "source": [
        "# Create tuples of User IDs and their respective feature lists\n",
        "user_tuple = list(zip(usersdf['User-Id'], feature_list))\n",
        "\n",
        "# Output the user_tuple\n",
        "print(user_tuple)"
      ],
      "metadata": {
        "id": "7ZU70R0hL5Sy"
      },
      "execution_count": null,
      "outputs": []
    },
    {
      "cell_type": "code",
      "source": [
        "# Fit the dataset with user and item ids, and user features\n",
        "dataset1.fit(\n",
        "    usersdf['User-Id'].unique(),\n",
        "    trainingsdf['Training-Id'].unique(),\n",
        "    user_features=[f for sublist in feature_list for f in sublist]\n",
        ")"
      ],
      "metadata": {
        "id": "WVlJdNLPL7_-"
      },
      "execution_count": null,
      "outputs": []
    },
    {
      "cell_type": "code",
      "source": [
        "# Build interactions matrix\n",
        "(interactions, weights) = dataset1.build_interactions(\n",
        "    [(x[\"User-Id\"], x[\"Training-Id\"]) for _, x in trainingstakendf.iterrows()]\n",
        ")"
      ],
      "metadata": {
        "id": "_N8zXbvgL9gN"
      },
      "execution_count": null,
      "outputs": []
    },
    {
      "cell_type": "code",
      "source": [
        "# Check interactions and weights matrices\n",
        "print(interactions.todense())\n",
        "print(weights.todense())"
      ],
      "metadata": {
        "id": "ppK19UchL_BC"
      },
      "execution_count": null,
      "outputs": []
    },
    {
      "cell_type": "code",
      "source": [
        "# Build user features\n",
        "user_features = dataset1.build_user_features(user_tuple, normalize=False)"
      ],
      "metadata": {
        "id": "Fx5af-8NMAY_"
      },
      "execution_count": null,
      "outputs": []
    },
    {
      "cell_type": "code",
      "source": [
        "# Initialize and train the LightFM model\n",
        "model = LightFM(loss='warp')\n",
        "model.fit(interactions, user_features=user_features, epochs=30, num_threads=2)"
      ],
      "metadata": {
        "id": "BgV3N45UIrzw"
      },
      "execution_count": null,
      "outputs": []
    },
    {
      "cell_type": "code",
      "source": [
        "user_features.todense()"
      ],
      "metadata": {
        "id": "7Nnff8JXHUgQ"
      },
      "execution_count": null,
      "outputs": []
    },
    {
      "cell_type": "code",
      "source": [
        "user_features.shape"
      ],
      "metadata": {
        "id": "7qT6Unx3LCsr"
      },
      "execution_count": null,
      "outputs": []
    },
    {
      "cell_type": "code",
      "source": [
        "# Assuming dataset1 is already defined and fitted with user and item data\n",
        "user_id_map, user_feature_map, item_id_map, item_feature_map = dataset1.mapping()\n",
        "\n",
        "# Accessing user_feature_map\n",
        "print(user_feature_map)"
      ],
      "metadata": {
        "id": "nLIyYVgmHWHm"
      },
      "execution_count": null,
      "outputs": []
    },
    {
      "cell_type": "code",
      "source": [
        "model = LightFM(loss='warp')\n",
        "model.fit(interactions,\n",
        "          user_features= user_features,\n",
        "          epochs=10)"
      ],
      "metadata": {
        "id": "xKDubRz4HX1N"
      },
      "execution_count": null,
      "outputs": []
    },
    {
      "cell_type": "code",
      "source": [
        "from lightfm.evaluation import auc_score\n",
        "\n",
        "# Assuming model, interactions, and user_features are defined\n",
        "train_auc = auc_score(model,\n",
        "                      interactions,\n",
        "                      user_features=user_features).mean()\n",
        "\n",
        "print('Hybrid training set AUC: %s' % train_auc)"
      ],
      "metadata": {
        "id": "tQFzhgDjHYPo"
      },
      "execution_count": null,
      "outputs": []
    },
    {
      "cell_type": "code",
      "source": [
        "import numpy as np\n",
        "\n",
        "# Assuming user_id_map is obtained from dataset1.mapping()\n",
        "user_x = user_id_map[9212216]  # Mapping of user ID 9212216 in LightFM format\n",
        "n_users, n_items = interactions.shape  # Shape of interactions matrix\n",
        "\n",
        "# Assuming model is already trained\n",
        "scores = model.predict(user_x, np.arange(n_items))\n",
        "\n",
        "# Print or inspect the scores\n",
        "print(scores)"
      ],
      "metadata": {
        "id": "3UsK18geHbSc"
      },
      "execution_count": null,
      "outputs": []
    }
  ]
}