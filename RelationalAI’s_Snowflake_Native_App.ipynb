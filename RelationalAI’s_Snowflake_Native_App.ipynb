{
  "nbformat": 4,
  "nbformat_minor": 0,
  "metadata": {
    "colab": {
      "provenance": []
    },
    "kernelspec": {
      "name": "python3",
      "display_name": "Python 3"
    },
    "language_info": {
      "name": "python"
    }
  },
  "cells": [
    {
      "cell_type": "markdown",
      "source": [
        "Step 1: Use user-item interactions to construct the graph"
      ],
      "metadata": {
        "id": "bn_nJWbdOOqR"
      }
    },
    {
      "cell_type": "code",
      "execution_count": null,
      "metadata": {
        "id": "5Jk6rOpQM_SY"
      },
      "outputs": [],
      "source": [
        "# Define User Type\n",
        "with model.rule():\n",
        "    t = Train()\n",
        "    User.add(user_id=t.user_id)\n",
        "\n",
        "# Define Movie Type\n",
        "with model.rule():\n",
        "    item = Items()\n",
        "    train = Train()\n",
        "    train.item_id == item.item_id\n",
        "    Movie.add(item_id=train.item_id, title=item.title)\n",
        "\n",
        "# Link Users to Movies\n",
        "with model.rule():\n",
        "    t = Train()\n",
        "    u = User(user_id=t.user_id)\n",
        "    m = Movie(item_id=t.item_id)\n",
        "    u.watched.add(m)"
      ]
    },
    {
      "cell_type": "markdown",
      "source": [
        "Step 2: Compute Item-Item similarities"
      ],
      "metadata": {
        "id": "tIitzLV-OLPY"
      }
    },
    {
      "cell_type": "code",
      "source": [
        "with model.rule():\n",
        "    m1 = Movie()\n",
        "    m2 = Movie()\n",
        "    m1 != m2\n",
        "    # Compute cosine similarity between m1 and m2\n",
        "    similarity_score = movie_graph.compute.cosine_similarity(m1, m2)\n",
        "    # Add objects to Similarity Type\n",
        "    Similarity.add(\n",
        "        movie1=Movie(item_id=m1.item_id),\n",
        "        movie2=Movie(item_id=m2.item_id),\n",
        "        similarity_score=similarity_score,\n",
        "    )"
      ],
      "metadata": {
        "id": "cblZiw-yNnzn"
      },
      "execution_count": null,
      "outputs": []
    },
    {
      "cell_type": "markdown",
      "source": [
        "Step 3: Predicting scores for (user, movie) pairs"
      ],
      "metadata": {
        "id": "SPSSYfeHN-wE"
      }
    },
    {
      "cell_type": "code",
      "source": [
        "with model.rule():\n",
        "    u = User()\n",
        "    m = Movie()\n",
        "    # Top k similar movie detrmined by the similarity score\n",
        "    n = NearestNeighbors()\n",
        "\n",
        "    # Remove movies already watched by users from scoring\n",
        "    with model.not_found():\n",
        "        m == u.watched\n",
        "    # Find similar movies to movie m\n",
        "    n.movie.item_id == m.item_id\n",
        "    # Get intersection between watched movies and similar movies to m\n",
        "    n.nearest_movies == u.watched\n",
        "    # Calculate the sum similarity scores for each neighbor movie\n",
        "    score_sum = aggregates.sum(n.similarity_score, per=[n.movie])\n",
        "    # Define Scoring type with user, movie, and score\n",
        "    Scoring.add(\n",
        "        user=u,\n",
        "        movie=m,\n",
        "        score=score_sum\n",
        "    )"
      ],
      "metadata": {
        "id": "lwnkc_R9Nr-X"
      },
      "execution_count": null,
      "outputs": []
    },
    {
      "cell_type": "markdown",
      "source": [
        "Step 4: Generating Top-k Recommendations"
      ],
      "metadata": {
        "id": "b2glSnMDN6zx"
      }
    },
    {
      "cell_type": "code",
      "source": [
        "with model.rule():\n",
        "    s = Scoring()\n",
        "    # Get top 10 movies based on the score\n",
        "    score_rank = aggregates.top(10, s.score, s, per=[s.user])\n",
        "\n",
        "    Recommendation.add(\n",
        "        user=s.user,\n",
        "        score_rank = alias(score_rank, \"score_rank\"),\n",
        "        recommended_movie = s.movie,\n",
        "        score = s.score\n",
        "    )"
      ],
      "metadata": {
        "id": "xf8hOpzfNv0j"
      },
      "execution_count": null,
      "outputs": []
    },
    {
      "cell_type": "markdown",
      "source": [
        "Step 5: Evaluating the item-based approach"
      ],
      "metadata": {
        "id": "v2E7_qvwN4mj"
      }
    },
    {
      "cell_type": "code",
      "source": [
        "# Calculate Precision per User\n",
        "with model.rule():\n",
        "    u = User()\n",
        "    r = Recommendation(user=u)\n",
        "\n",
        "    # Count the number of recommended items that are relevant\n",
        "    u.relevant == r.recommended_movie\n",
        "    # Calculate precision for users\n",
        "    true_positive = aggregates.count(u.relevant.item_id, per=[u.user_id])\n",
        "    user_precision = true_positive / k_recommendations\n",
        "\n",
        "    # Add user_precision as an attribute\n",
        "    u.set(user_precision=user_precision)\n",
        "\n",
        "# Get Average Precision\n",
        "with model.query() as select:\n",
        "    u = User()\n",
        "    u.relevant\n",
        "    user_precision = u.user_precision.or_(0.0)\n",
        "    total_precision = aggregates.avg(u, user_precision)\n",
        "    precision = select(\n",
        "        alias(total_precision, \"Average Precision\")\n",
        "    )"
      ],
      "metadata": {
        "id": "lo6SJI1VNyLA"
      },
      "execution_count": null,
      "outputs": []
    }
  ]
}